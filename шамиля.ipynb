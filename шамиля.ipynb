{
 "cells": [
  {
   "cell_type": "code",
   "execution_count": 1,
   "metadata": {},
   "outputs": [],
   "source": [
    "from datetime import datetime\n",
    "import pandas as pd\n",
    "import numpy as np\n",
    "\n",
    "pd.options.display.max_columns = 20\n",
    "pd.options.display.width = 200"
   ]
  },
  {
   "cell_type": "code",
   "execution_count": 13,
   "metadata": {},
   "outputs": [],
   "source": [
    "sleeve_file = 'Паспорта гильз кристаллизатора 2020_1.xlsx'\n",
    "sleeve_sheet = '180'\n",
    "\n",
    "sleeve_df = pd.read_excel(sleeve_file, sheet_name=sleeve_sheet, header=1)"
   ]
  },
  {
   "cell_type": "code",
   "execution_count": 14,
   "metadata": {},
   "outputs": [
    {
     "data": {
      "text/html": [
       "<div>\n",
       "<style scoped>\n",
       "    .dataframe tbody tr th:only-of-type {\n",
       "        vertical-align: middle;\n",
       "    }\n",
       "\n",
       "    .dataframe tbody tr th {\n",
       "        vertical-align: top;\n",
       "    }\n",
       "\n",
       "    .dataframe thead th {\n",
       "        text-align: right;\n",
       "    }\n",
       "</style>\n",
       "<table border=\"1\" class=\"dataframe\">\n",
       "  <thead>\n",
       "    <tr style=\"text-align: right;\">\n",
       "      <th></th>\n",
       "      <th>№ гильзы</th>\n",
       "      <th>Дата ввода</th>\n",
       "      <th>№ кристаллизатора</th>\n",
       "      <th>№ ручья</th>\n",
       "      <th>Дата установки</th>\n",
       "      <th>Дата вывода</th>\n",
       "      <th>Причина</th>\n",
       "      <th>стойкость, т</th>\n",
       "      <th>Зазор по шаблону</th>\n",
       "      <th>R1</th>\n",
       "      <th>...</th>\n",
       "      <th>Дата установки.6</th>\n",
       "      <th>Дата вывода.6</th>\n",
       "      <th>Причина.6</th>\n",
       "      <th>стойкость, т.6</th>\n",
       "      <th>Зазор по шаблону.6</th>\n",
       "      <th>R1.6</th>\n",
       "      <th>r1.6</th>\n",
       "      <th>Левый.6</th>\n",
       "      <th>Правый.6</th>\n",
       "      <th>Замечания.6</th>\n",
       "    </tr>\n",
       "  </thead>\n",
       "  <tbody>\n",
       "    <tr>\n",
       "      <th>0</th>\n",
       "      <td>30013869</td>\n",
       "      <td>2019-12-26</td>\n",
       "      <td>7.0</td>\n",
       "      <td>5.0</td>\n",
       "      <td>2019-12-30</td>\n",
       "      <td>2020-01-04</td>\n",
       "      <td>смена сечения</td>\n",
       "      <td>3961.0</td>\n",
       "      <td>0.5</td>\n",
       "      <td>0.5</td>\n",
       "      <td>...</td>\n",
       "      <td>NaT</td>\n",
       "      <td>NaT</td>\n",
       "      <td>NaN</td>\n",
       "      <td>NaN</td>\n",
       "      <td>NaN</td>\n",
       "      <td>NaN</td>\n",
       "      <td>NaN</td>\n",
       "      <td>NaN</td>\n",
       "      <td>NaN</td>\n",
       "      <td>NaN</td>\n",
       "    </tr>\n",
       "    <tr>\n",
       "      <th>1</th>\n",
       "      <td>30014134</td>\n",
       "      <td>2020-03-16</td>\n",
       "      <td>7.0</td>\n",
       "      <td>1.0</td>\n",
       "      <td>2020-04-27</td>\n",
       "      <td>2020-04-29</td>\n",
       "      <td>смена сечения</td>\n",
       "      <td>1420.0</td>\n",
       "      <td>0.4</td>\n",
       "      <td>0.4</td>\n",
       "      <td>...</td>\n",
       "      <td>NaT</td>\n",
       "      <td>NaT</td>\n",
       "      <td>NaN</td>\n",
       "      <td>NaN</td>\n",
       "      <td>NaN</td>\n",
       "      <td>NaN</td>\n",
       "      <td>NaN</td>\n",
       "      <td>NaN</td>\n",
       "      <td>NaN</td>\n",
       "      <td>NaN</td>\n",
       "    </tr>\n",
       "  </tbody>\n",
       "</table>\n",
       "<p>2 rows × 86 columns</p>\n",
       "</div>"
      ],
      "text/plain": [
       "   № гильзы Дата ввода   № кристаллизатора  № ручья Дата установки Дата вывода        Причина  стойкость, т  Зазор по шаблону   R1  ...  Дата установки.6  Дата вывода.6  Причина.6 стойкость, т.6  \\\n",
       "0  30013869  2019-12-26                7.0      5.0     2019-12-30  2020-01-04  смена сечения        3961.0               0.5  0.5  ...               NaT            NaT        NaN            NaN   \n",
       "1  30014134  2020-03-16                7.0      1.0     2020-04-27  2020-04-29  смена сечения        1420.0               0.4  0.4  ...               NaT            NaT        NaN            NaN   \n",
       "\n",
       "   Зазор по шаблону.6  R1.6 r1.6 Левый.6 Правый.6  Замечания.6  \n",
       "0                 NaN   NaN  NaN     NaN      NaN          NaN  \n",
       "1                 NaN   NaN  NaN     NaN      NaN          NaN  \n",
       "\n",
       "[2 rows x 86 columns]"
      ]
     },
     "execution_count": 14,
     "metadata": {},
     "output_type": "execute_result"
    }
   ],
   "source": [
    "sleeve_df.head(2)"
   ]
  },
  {
   "cell_type": "code",
   "execution_count": 8,
   "metadata": {},
   "outputs": [],
   "source": [
    "plav = pd.read_excel('отчет о параметрах соед.xlsx')"
   ]
  },
  {
   "cell_type": "code",
   "execution_count": 15,
   "metadata": {},
   "outputs": [
    {
     "ename": "NameError",
     "evalue": "name 'sleeve_dfs' is not defined",
     "output_type": "error",
     "traceback": [
      "\u001b[1;31m---------------------------------------------------------------------------\u001b[0m",
      "\u001b[1;31mNameError\u001b[0m                                 Traceback (most recent call last)",
      "\u001b[1;32m<ipython-input-15-4f63374dae6b>\u001b[0m in \u001b[0;36m<module>\u001b[1;34m\u001b[0m\n\u001b[0;32m      3\u001b[0m \u001b[1;33m\u001b[0m\u001b[0m\n\u001b[0;32m      4\u001b[0m \u001b[1;32mfor\u001b[0m \u001b[0mi\u001b[0m \u001b[1;32min\u001b[0m \u001b[0mrange\u001b[0m\u001b[1;33m(\u001b[0m\u001b[0maudit_num\u001b[0m\u001b[1;33m)\u001b[0m\u001b[1;33m:\u001b[0m\u001b[1;33m\u001b[0m\u001b[1;33m\u001b[0m\u001b[0m\n\u001b[1;32m----> 5\u001b[1;33m     \u001b[0mprint\u001b[0m\u001b[1;33m(\u001b[0m\u001b[0msleeve_dfs\u001b[0m\u001b[1;33m.\u001b[0m\u001b[0miloc\u001b[0m\u001b[1;33m[\u001b[0m\u001b[1;33m:\u001b[0m\u001b[1;36m2\u001b[0m\u001b[1;33m,\u001b[0m \u001b[1;36m4\u001b[0m\u001b[1;33m+\u001b[0m\u001b[0mi\u001b[0m\u001b[1;33m*\u001b[0m\u001b[0maudit_cols\u001b[0m\u001b[1;33m:\u001b[0m\u001b[1;36m4\u001b[0m\u001b[1;33m+\u001b[0m\u001b[1;33m(\u001b[0m\u001b[0mi\u001b[0m\u001b[1;33m+\u001b[0m\u001b[1;36m1\u001b[0m\u001b[1;33m)\u001b[0m\u001b[1;33m*\u001b[0m\u001b[0maudit_cols\u001b[0m\u001b[1;33m]\u001b[0m\u001b[1;33m.\u001b[0m\u001b[0miloc\u001b[0m\u001b[1;33m[\u001b[0m\u001b[1;33m:\u001b[0m\u001b[1;33m,\u001b[0m \u001b[1;36m0\u001b[0m\u001b[1;33m:\u001b[0m\u001b[1;36m2\u001b[0m\u001b[1;33m]\u001b[0m\u001b[1;33m)\u001b[0m\u001b[1;33m\u001b[0m\u001b[1;33m\u001b[0m\u001b[0m\n\u001b[0m",
      "\u001b[1;31mNameError\u001b[0m: name 'sleeve_dfs' is not defined"
     ]
    }
   ],
   "source": [
    "audit_num = 7 # кол-во ревизий\n",
    "audit_cols = 12 # сколько колонок на ревизию\n",
    "\n",
    "for i in range(audit_num):\n",
    "    print(sleeve_dfs.iloc[:2, 4+i*audit_cols:4+(i+1)*audit_cols].iloc[:, 0:2])"
   ]
  },
  {
   "cell_type": "code",
   "execution_count": 16,
   "metadata": {},
   "outputs": [
    {
     "data": {
      "text/plain": [
       "True"
      ]
     },
     "execution_count": 16,
     "metadata": {},
     "output_type": "execute_result"
    }
   ],
   "source": [
    "sleeve_i = 83895\n",
    "sleeve_df[sleeve_df['№ гильзы'] == sleeve_i].iloc[0, 1]\n",
    "sleeve_df[sleeve_df['№ гильзы'] == 83898].iloc[0, 1] > sleeve_df[sleeve_df['№ гильзы'] == sleeve_i].iloc[0, 1]"
   ]
  },
  {
   "cell_type": "code",
   "execution_count": 23,
   "metadata": {},
   "outputs": [
    {
     "data": {
      "text/plain": [
       "Timestamp('2020-07-27 00:00:00')"
      ]
     },
     "execution_count": 23,
     "metadata": {},
     "output_type": "execute_result"
    }
   ],
   "source": [
    "a = sleeve_df[sleeve_df['№ гильзы'] == 83898].iloc[0, 1]\n",
    "a.timestamp()\n",
    "a"
   ]
  },
  {
   "cell_type": "code",
   "execution_count": 19,
   "metadata": {},
   "outputs": [
    {
     "name": "stdout",
     "output_type": "stream",
     "text": [
      "01.07.2020 1593550800.0\n",
      "01.07.2020 1593550800.0\n",
      "01.07.2020 1593550800.0\n",
      "01.07.2020 1593550800.0\n",
      "01.07.2020 1593550800.0\n",
      "01.07.2020 1593550800.0\n",
      "01.07.2020 1593550800.0\n",
      "01.07.2020 1593550800.0\n",
      "01.07.2020 1593550800.0\n",
      "01.07.2020 1593550800.0\n"
     ]
    }
   ],
   "source": [
    "melt_file = 'отчет о параметрах соед.xlsx'\n",
    "melt_sheet = 0\n",
    "\n",
    "melt_df = pd.read_excel(melt_file, sheet_name=melt_sheet, header=2)\n",
    "\n",
    "for i, row in melt_df.iloc[:10].iterrows():\n",
    "    print(row[2], datetime.strptime(row[2], '%d.%m.%Y').timestamp())"
   ]
  },
  {
   "cell_type": "code",
   "execution_count": 20,
   "metadata": {},
   "outputs": [
    {
     "name": "stdout",
     "output_type": "stream",
     "text": [
      "Skipped: 0 sleeves\n"
     ]
    }
   ],
   "source": [
    "# audit_num = 7 # кол-во ревизий\n",
    "# audit_cols = 12 # сколько колонок на ревизию\n",
    "sleeve_melt = []\n",
    "\n",
    "# гильзы\n",
    "for _, sleeve_row in sleeve_df.iloc[:9999].iterrows():\n",
    "    melts = []\n",
    "    data = [sleeve_row, melts]\n",
    "    sleeve_melt.append(data)\n",
    "\n",
    "    # плавки\n",
    "    for _, melt_row in melt_df.iloc[:300].iterrows():\n",
    "        melt_date = datetime.strptime(melt_row[2], '%d.%m.%Y')\n",
    "\n",
    "        add_melt = False\n",
    "        skip_count = 0\n",
    "        for i in range(audit_num):\n",
    "            audit_row = sleeve_row.iloc[4+i*audit_cols:4+(i+1)*audit_cols]\n",
    "            start_date, end_date = audit_row[0], audit_row[1]\n",
    "            try:\n",
    "                if (not pd.isnull(start_date) and start_date <= melt_date < end_date):\n",
    "                    add_melt = True\n",
    "            except:\n",
    "                skip_count += 1\n",
    "                # print('skip', melt_date, start_date, end_date)\n",
    "        if add_melt:\n",
    "            melts.append(melt_row)\n",
    "            # sleeve_melt.append(data)\n",
    "\n",
    "print('Skipped:', skip_count, 'sleeves')\n",
    "# list(map(lambda x: (x[0][0], len(x[1])), sleeve_melt))\n",
    "a = list(filter(lambda x: len(x[1]), sleeve_melt))\n",
    "\n",
    "sleeve_melt_full = list(map(lambda x: (x[0][0], len(x[1])), a)) # гильзы, которые реально использовались\n",
    "\n",
    "# t_melt_df = pd.DataFrame().reindex_like(melt_df)\n",
    "# t_melt_df = t_melt_df.drop(t_melt_df.index)\n",
    "# t_melt_df"
   ]
  },
  {
   "cell_type": "code",
   "execution_count": 21,
   "metadata": {},
   "outputs": [
    {
     "data": {
      "text/plain": [
       "30014817"
      ]
     },
     "execution_count": 21,
     "metadata": {},
     "output_type": "execute_result"
    }
   ],
   "source": [
    "sleeve_melt_full[0][0]\n",
    "# melt_date = datetime.strptime(sleeve_melt[2][0][1][2], '%d.%m.%Y')"
   ]
  },
  {
   "cell_type": "code",
   "execution_count": 22,
   "metadata": {},
   "outputs": [
    {
     "data": {
      "text/plain": [
       "[(30014817, 177),\n",
       " (83895, 28),\n",
       " (30014811, 97),\n",
       " (30014810, 205),\n",
       " (30014808, 172),\n",
       " (30014804, 203),\n",
       " (30014821, 97),\n",
       " (30014815, 128),\n",
       " (30014807, 177),\n",
       " (30014803, 95),\n",
       " (30014820, 95),\n",
       " (30014802, 28),\n",
       " (30014809, 203)]"
      ]
     },
     "execution_count": 22,
     "metadata": {},
     "output_type": "execute_result"
    }
   ],
   "source": [
    "sleeve_melt_full"
   ]
  },
  {
   "cell_type": "code",
   "execution_count": null,
   "metadata": {},
   "outputs": [],
   "source": []
  }
 ],
 "metadata": {
  "kernelspec": {
   "display_name": "Python 3",
   "language": "python",
   "name": "python3"
  },
  "language_info": {
   "codemirror_mode": {
    "name": "ipython",
    "version": 3
   },
   "file_extension": ".py",
   "mimetype": "text/x-python",
   "name": "python",
   "nbconvert_exporter": "python",
   "pygments_lexer": "ipython3",
   "version": "3.7.6"
  }
 },
 "nbformat": 4,
 "nbformat_minor": 4
}
